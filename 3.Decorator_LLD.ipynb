{
 "cells": [
  {
   "cell_type": "markdown",
   "id": "b10e2616",
   "metadata": {},
   "source": [
    "# Decorator Design Pattern"
   ]
  },
  {
   "cell_type": "code",
   "execution_count": 1,
   "id": "29f637e0",
   "metadata": {},
   "outputs": [],
   "source": [
    "# Used to avoid class explosion . In below example , decorator is created to implement extra cheese and \n",
    "# extra Mushroom"
   ]
  },
  {
   "cell_type": "code",
   "execution_count": 7,
   "id": "0de88c1e",
   "metadata": {},
   "outputs": [
    {
     "name": "stdout",
     "output_type": "stream",
     "text": [
      "120\n",
      "120\n"
     ]
    }
   ],
   "source": [
    "from abc import ABC,abstractmethod\n",
    "\n",
    "class BasePizza(ABC):\n",
    "    @abstractmethod\n",
    "    def cost(self):\n",
    "        pass\n",
    "\n",
    "class Margherita(BasePizza):\n",
    "    def cost(self):\n",
    "        return 100\n",
    "\n",
    "class VegFilled(BasePizza):\n",
    "    def cost(self):\n",
    "        return 90\n",
    "\n",
    "# Implementing decorator below for Toppings.\n",
    "class ToppingDecorator(BasePizza):\n",
    "    \n",
    "    def __init__(self,basepizza):\n",
    "        self.basepizza = basepizza\n",
    "        \n",
    "    @abstractmethod\n",
    "    def cost(self):\n",
    "        pass\n",
    "\n",
    "class ExtraCheese(ToppingDecorator):\n",
    "    def cost(self):\n",
    "        return self.basepizza.cost()  + 10\n",
    "    \n",
    "class ExtraMushroom(ToppingDecorator):\n",
    "    def cost(self):\n",
    "        return self.basepizza.cost()  + 20\n",
    "\n",
    "\n",
    "def main():\n",
    "    #I want a VegFilledPizza with ExtraChess and ExtraMushroom\n",
    "#     basepizza_obj = VegFilled() #note that ToppingDecorator is also abstract class and cannot create obj of abc\n",
    "#     with_extra_cheese_obj = ExtraCheese(basepizza_obj)\n",
    "#     with_extra_cheese_and_extra_mushroom_obj = ExtraMushroom(with_extra_cheese_obj)\n",
    "#     print(with_extra_cheese_and_extra_mushroom_obj.cost())\n",
    "    \n",
    "    #Another way \n",
    "    print(ExtraMushroom(ExtraCheese(VegFilled())).cost())\n",
    "    \n",
    "    \n",
    "    \n",
    "if __name__ == \"__main__\":\n",
    "    main()"
   ]
  },
  {
   "cell_type": "code",
   "execution_count": null,
   "id": "397252e5",
   "metadata": {},
   "outputs": [],
   "source": []
  }
 ],
 "metadata": {
  "kernelspec": {
   "display_name": "Python 3 (ipykernel)",
   "language": "python",
   "name": "python3"
  },
  "language_info": {
   "codemirror_mode": {
    "name": "ipython",
    "version": 3
   },
   "file_extension": ".py",
   "mimetype": "text/x-python",
   "name": "python",
   "nbconvert_exporter": "python",
   "pygments_lexer": "ipython3",
   "version": "3.11.2"
  }
 },
 "nbformat": 4,
 "nbformat_minor": 5
}
