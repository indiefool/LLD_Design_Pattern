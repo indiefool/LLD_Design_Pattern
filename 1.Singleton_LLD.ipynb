{
 "cells": [
  {
   "cell_type": "code",
   "execution_count": 1,
   "id": "982c0a26",
   "metadata": {},
   "outputs": [],
   "source": [
    "#Without Thread Safe - Also called Lazy Singleton"
   ]
  },
  {
   "cell_type": "code",
   "execution_count": 11,
   "id": "aea94074",
   "metadata": {},
   "outputs": [
    {
     "name": "stdout",
     "output_type": "stream",
     "text": [
      "<__main__.singleton_without_thread_safe object at 0x112a06b10>\n",
      "<__main__.singleton_without_thread_safe object at 0x112a06b10>\n",
      "True\n"
     ]
    }
   ],
   "source": [
    "class singleton_without_thread_safe:\n",
    "    \n",
    "    _instance = None\n",
    "    \n",
    "    def __new__(cls):\n",
    "        if cls._instance == None:\n",
    "            cls._instance = super(singleton_without_thread_safe,cls).__new__(cls)\n",
    "        return cls._instance\n",
    "    \n",
    "def main():\n",
    "    obj1 = singleton_without_thread_safe()\n",
    "    obj2 = singleton_without_thread_safe()\n",
    "    \n",
    "    print(obj1)\n",
    "    print(obj2)\n",
    "    print(obj1 == obj2)\n",
    "\n",
    "\n",
    "    \n",
    "if __name__ == \"__main__\":\n",
    "    main()"
   ]
  },
  {
   "cell_type": "code",
   "execution_count": 2,
   "id": "9ff877e5",
   "metadata": {},
   "outputs": [],
   "source": [
    "#Thread Safe Singleton"
   ]
  },
  {
   "cell_type": "code",
   "execution_count": 17,
   "id": "da7a8f28",
   "metadata": {},
   "outputs": [
    {
     "name": "stdout",
     "output_type": "stream",
     "text": [
      "<__main__.singleton_without_thread_safe object at 0x112a0b810>\n",
      "<__main__.singleton_without_thread_safe object at 0x112a0b810>\n",
      "True\n"
     ]
    }
   ],
   "source": [
    "import threading\n",
    "\n",
    "class singleton_with_thread_safe:\n",
    "    \n",
    "    _instance = None\n",
    "    _lock = threading.Lock()\n",
    "    \n",
    "    def __new__(cls):\n",
    "        with cls._lock:\n",
    "            if cls._instance == None:\n",
    "                cls._instance = super(singleton_without_thread_safe,cls).__new__(cls)\n",
    "        return cls._instance\n",
    "    \n",
    "def main():\n",
    "    obj1 = singleton_without_thread_safe()\n",
    "    obj2 = singleton_without_thread_safe()\n",
    "\n",
    "    print(obj1)\n",
    "    print(obj2)\n",
    "    print(obj1 == obj2)\n",
    "    \n",
    "if __name__ == \"__main__\":\n",
    "    main()"
   ]
  },
  {
   "cell_type": "code",
   "execution_count": null,
   "id": "22849226",
   "metadata": {},
   "outputs": [],
   "source": []
  },
  {
   "cell_type": "code",
   "execution_count": null,
   "id": "f7631498",
   "metadata": {},
   "outputs": [],
   "source": []
  }
 ],
 "metadata": {
  "kernelspec": {
   "display_name": "Python 3 (ipykernel)",
   "language": "python",
   "name": "python3"
  },
  "language_info": {
   "codemirror_mode": {
    "name": "ipython",
    "version": 3
   },
   "file_extension": ".py",
   "mimetype": "text/x-python",
   "name": "python",
   "nbconvert_exporter": "python",
   "pygments_lexer": "ipython3",
   "version": "3.11.2"
  }
 },
 "nbformat": 4,
 "nbformat_minor": 5
}
