{
 "cells": [
  {
   "cell_type": "code",
   "execution_count": 1,
   "id": "59409279",
   "metadata": {},
   "outputs": [],
   "source": [
    "#Your Pizza + Toppings → Decorator (adding features dynamically)\n",
    "#Different Pricing rules → Strategy (switching behaviors)"
   ]
  },
  {
   "cell_type": "code",
   "execution_count": 2,
   "id": "c77088fc",
   "metadata": {},
   "outputs": [],
   "source": [
    "# I will take same example of Pizza used in decorator"
   ]
  },
  {
   "cell_type": "code",
   "execution_count": null,
   "id": "72ce37db",
   "metadata": {},
   "outputs": [],
   "source": [
    "#Decorator = Add-ons (layered).\n",
    "\n",
    "#Strategy = Choose How to Work (full behavior swap)."
   ]
  },
  {
   "cell_type": "code",
   "execution_count": 10,
   "id": "c1dd7188",
   "metadata": {},
   "outputs": [
    {
     "name": "stdout",
     "output_type": "stream",
     "text": [
      "10.0\n"
     ]
    }
   ],
   "source": [
    "from abc import ABC,abstractmethod\n",
    "\n",
    "class PricingStrategy(ABC):\n",
    "    \n",
    "    @abstractmethod\n",
    "    def get_price(self,base_price):\n",
    "        pass\n",
    "    \n",
    "class NormalPricing(PricingStrategy):\n",
    "    \n",
    "    def get_price(self,base_price):\n",
    "        return base_price\n",
    "    \n",
    "class DiscountPricing(PricingStrategy):\n",
    "    \n",
    "    def __init__(self,discount):\n",
    "        self.discount_percentage = discount\n",
    "        \n",
    "    \n",
    "    def get_price(self,base_price):\n",
    "        return round(base_price * (1- self.discount_percentage*0.01),2)\n",
    "\n",
    "class PremiumPricing(PricingStrategy):\n",
    "    \n",
    "    def __init__(self,increase):\n",
    "        self.increase_percentage = increase\n",
    "        \n",
    "    \n",
    "    def get_price(self,base_price):\n",
    "        return base_price * (1+ self.increase_percentage*0.01)\n",
    "\n",
    "class Pizza:\n",
    "    \n",
    "    def __init__(self,price,strategy:PricingStrategy):\n",
    "        self.price = price\n",
    "        self.strategy_at_runtime = strategy\n",
    "    \n",
    "    def final_price(self):\n",
    "        return self.strategy_at_runtime.get_price(self.price)\n",
    "\n",
    "    \n",
    "Discount_from_config = 90    \n",
    "obj = Pizza(100,DiscountPricing(Discount_from_config))\n",
    "print(obj.final_price())\n",
    "\n",
    "    \n",
    "    "
   ]
  },
  {
   "cell_type": "code",
   "execution_count": null,
   "id": "1ad4380f",
   "metadata": {},
   "outputs": [],
   "source": []
  }
 ],
 "metadata": {
  "kernelspec": {
   "display_name": "Python 3 (ipykernel)",
   "language": "python",
   "name": "python3"
  },
  "language_info": {
   "codemirror_mode": {
    "name": "ipython",
    "version": 3
   },
   "file_extension": ".py",
   "mimetype": "text/x-python",
   "name": "python",
   "nbconvert_exporter": "python",
   "pygments_lexer": "ipython3",
   "version": "3.11.2"
  }
 },
 "nbformat": 4,
 "nbformat_minor": 5
}
