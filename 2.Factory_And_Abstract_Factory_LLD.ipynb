{
 "cells": [
  {
   "cell_type": "markdown",
   "id": "6dad766d",
   "metadata": {},
   "source": [
    "# Factory Method Example"
   ]
  },
  {
   "cell_type": "code",
   "execution_count": null,
   "id": "eb930570",
   "metadata": {},
   "outputs": [],
   "source": [
    "#Also known as: Virtual Constructor"
   ]
  },
  {
   "cell_type": "code",
   "execution_count": 5,
   "id": "a62dc268",
   "metadata": {},
   "outputs": [
    {
     "name": "stdout",
     "output_type": "stream",
     "text": [
      "This is a Circle\n"
     ]
    }
   ],
   "source": [
    "from abc import ABC, abstractmethod\n",
    "\n",
    "# Step 1: Abstract Product\n",
    "class Shape(ABC):\n",
    "    @abstractmethod\n",
    "    def draw(self):\n",
    "        pass\n",
    "\n",
    "# Step 2: Concrete Products\n",
    "class Circle(Shape):\n",
    "    def draw(self):\n",
    "        return \"This is a Circle\"\n",
    "\n",
    "class Rectangle(Shape):\n",
    "    def draw(self):\n",
    "        return \"This is a Rectangle\"\n",
    "\n",
    "class Square(Shape):\n",
    "    def draw(self):\n",
    "        return \"This is a Square\"\n",
    "\n",
    "# Step 3: Factory\n",
    "class ShapeFactory:\n",
    "    def getShape(self, type_to_call):\n",
    "        type_to_call = type_to_call.upper()\n",
    "        if type_to_call == \"CIRCLE\":\n",
    "            return Circle()\n",
    "        elif type_to_call == \"RECTANGLE\":\n",
    "            return Rectangle()\n",
    "        elif type_to_call == \"SQUARE\":\n",
    "            return Square()\n",
    "        else:\n",
    "            return None\n",
    "\n",
    "# Step 4: Main function to test\n",
    "def main():\n",
    "    factory = ShapeFactory()\n",
    "\n",
    "    shape1 = factory.getShape(\"circle\")\n",
    "    if shape1:\n",
    "        print(shape1.draw())  # Output: This is a Circle\n",
    "\n",
    "if __name__ == \"__main__\":\n",
    "    main()"
   ]
  },
  {
   "cell_type": "markdown",
   "id": "6b485e24",
   "metadata": {},
   "source": [
    "# Abstract Factory Example"
   ]
  },
  {
   "cell_type": "code",
   "execution_count": 7,
   "id": "820d3f41",
   "metadata": {},
   "outputs": [],
   "source": [
    "#Known as Factory Of Factory"
   ]
  },
  {
   "cell_type": "code",
   "execution_count": 14,
   "id": "4913328b",
   "metadata": {},
   "outputs": [
    {
     "name": "stdout",
     "output_type": "stream",
     "text": [
      "200\n"
     ]
    }
   ],
   "source": [
    "from abc import ABC, abstractmethod\n",
    "\n",
    "class abstractfactoryproducer():\n",
    "    \n",
    "    def getABCinstance(self,CarType):\n",
    "        \n",
    "        if CarType.upper() == 'PREMIUM' or CarType.upper() == 'LUXURY':\n",
    "            return LuxuryCarFactory()\n",
    "        \n",
    "        elif CarType.uppper() == 'ECONOMY':\n",
    "            return EconomicCarFactory()\n",
    "        else:\n",
    "            return None\n",
    "\n",
    "class abstractfactory(ABC):\n",
    "    \n",
    "    @abstractmethod\n",
    "    def getinstance(self,price):\n",
    "        pass\n",
    "    \n",
    "class LuxuryCarFactory(abstractfactory):\n",
    "    \n",
    "    def getinstance(self,price):\n",
    "        if price <= 1000 and price >= 500:\n",
    "            return LuxuryCar1()\n",
    "        else:\n",
    "            return LuxuryCar2()\n",
    "\n",
    "class EconomicCarFactory(abstractfactory):\n",
    "    \n",
    "    def getinstance(self,price):\n",
    "        if price <= 300:\n",
    "            return EconomicCar1()\n",
    "        else:\n",
    "            return EconomicCar2()\n",
    "\n",
    "class car(ABC):\n",
    "    \n",
    "    @abstractmethod\n",
    "    def speed(self):\n",
    "        pass\n",
    "    \n",
    "class LuxuryCar1(car):\n",
    "    \n",
    "    def speed(self):\n",
    "        return 100\n",
    "\n",
    "class LuxuryCar2(car):\n",
    "\n",
    "    def speed(self):\n",
    "        return 200\n",
    "    \n",
    "class EconomicCar1(car):\n",
    "    \n",
    "    def speed(self):\n",
    "        return 50\n",
    "\n",
    "class EconomicCar2(car):\n",
    "\n",
    "    def speed(self):\n",
    "        return 30\n",
    "\n",
    "\n",
    "def main():\n",
    "    abstractfactory_producer_obj = abstractfactoryproducer()\n",
    "    abstractfactory_obj = abstractfactory_producer_obj.getABCinstance(\"premium\")\n",
    "    \n",
    "    car_obj = abstractfactory_obj.getinstance(400)\n",
    "    print(car_obj.speed())\n",
    "      \n",
    "\n",
    "if __name__ == \"__main__\":\n",
    "    main()"
   ]
  },
  {
   "cell_type": "code",
   "execution_count": null,
   "id": "709a0244",
   "metadata": {},
   "outputs": [],
   "source": []
  }
 ],
 "metadata": {
  "kernelspec": {
   "display_name": "Python 3 (ipykernel)",
   "language": "python",
   "name": "python3"
  },
  "language_info": {
   "codemirror_mode": {
    "name": "ipython",
    "version": 3
   },
   "file_extension": ".py",
   "mimetype": "text/x-python",
   "name": "python",
   "nbconvert_exporter": "python",
   "pygments_lexer": "ipython3",
   "version": "3.11.2"
  }
 },
 "nbformat": 4,
 "nbformat_minor": 5
}
