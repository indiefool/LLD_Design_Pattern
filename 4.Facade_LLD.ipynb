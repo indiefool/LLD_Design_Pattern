{
 "cells": [
  {
   "cell_type": "code",
   "execution_count": 10,
   "id": "fa1324d3",
   "metadata": {},
   "outputs": [
    {
     "name": "stdout",
     "output_type": "stream",
     "text": [
      "product with product ID = 121\n",
      "Invoice Generated\n",
      "Notification sent\n",
      "ProductID with modulo 5 = 1 returned\n"
     ]
    }
   ],
   "source": [
    "#Client        \n",
    "class Client:\n",
    "    \n",
    "    @classmethod\n",
    "    def main(self):\n",
    "        orderFacade_obj = orderFacade()\n",
    "        orderFacade_obj.createOrder(121)\n",
    "\n",
    "#Facade\n",
    "class orderFacade:\n",
    "    def __init__(self):\n",
    "        self.ProductDAO = ProductDAO()\n",
    "        self.Payment = Payment()\n",
    "        self.Invoice = Invoice()\n",
    "        self.SendNotification  = SendNotification()\n",
    "    \n",
    "    def createOrder(self,ID):\n",
    "        productID = self.ProductDAO.getProduct(ID)\n",
    "        self.Payment.makePayment()\n",
    "        self.Invoice.generateInvoice()\n",
    "        self.SendNotification.SendNotification()\n",
    "        \n",
    "        print(f\"ProductID with modulo 5 = {productID} returned\")\n",
    "    \n",
    "    \n",
    "#System\n",
    "class ProductDAO:\n",
    "    def getProduct(self,productID):\n",
    "        print(f\"product with product ID = {productID}\")\n",
    "        return productID%5\n",
    "        \n",
    "        \n",
    "class Payment:\n",
    "    def makePayment(self):\n",
    "        return True\n",
    "\n",
    "class Invoice:\n",
    "    def generateInvoice(self):\n",
    "        print(\"Invoice Generated\")\n",
    "\n",
    "class SendNotification:\n",
    "    def SendNotification(self):\n",
    "        print(\"Notification sent\")\n",
    "\n",
    "    \n",
    "if __name__ == \"__main__\":\n",
    "    Client.main()"
   ]
  },
  {
   "cell_type": "code",
   "execution_count": null,
   "id": "7b628b85",
   "metadata": {},
   "outputs": [],
   "source": []
  }
 ],
 "metadata": {
  "kernelspec": {
   "display_name": "Python 3 (ipykernel)",
   "language": "python",
   "name": "python3"
  },
  "language_info": {
   "codemirror_mode": {
    "name": "ipython",
    "version": 3
   },
   "file_extension": ".py",
   "mimetype": "text/x-python",
   "name": "python",
   "nbconvert_exporter": "python",
   "pygments_lexer": "ipython3",
   "version": "3.11.2"
  }
 },
 "nbformat": 4,
 "nbformat_minor": 5
}
